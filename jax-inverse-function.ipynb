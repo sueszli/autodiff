{
  "cells": [
    {
      "cell_type": "markdown",
      "metadata": {
        "id": "shT_PbGqsF79"
      },
      "source": [
        "# JAX Graph Transformation\n",
        "\n",
        "The code below implements an inverse transform of the function.\n",
        "\n",
        "In mathematics, the inverse function of a function $f$ (also called the inverse of $f$) is a function that undoes the operation of $f$.\n",
        "\n",
        "As an example, consider the real-valued function of a real variable given by $(x) = 5x − 7$. One can think of $f$ as the function which multiplies its input by $5$ then subtracts $7$ from the result. To undo this, one adds $7$ to the input, then divides the result by $5$. Therefore, the inverse of $f$ is the function\n",
        "$f^{-1}\\colon \\mathbb {R} \\to \\mathbb {R} $ defined by\n",
        "then divides the result by $5$. Therefore, the inverse of f is the function\n",
        "$$f^{-1}(y)=\\frac{y+7}{5}$$\n",
        "\n",
        "Also see:\n",
        "\n",
        "- https://jax.readthedocs.io/en/latest/notebooks/Writing_custom_interpreters_in_Jax.html\n",
        "- Jax installation on Apple-Silicon chips: https://developer.apple.com/metal/jax/"
      ]
    },
    {
      "cell_type": "code",
      "execution_count": 17,
      "metadata": {
        "id": "POmYglXHr5GO"
      },
      "outputs": [],
      "source": [
        "import numpy as np\n",
        "import jax\n",
        "import jax.numpy as jnp\n",
        "from jax import jit\n",
        "from jax import random\n",
        "\n",
        "x = random.normal(random.PRNGKey(0), (5000, 5000)) # deterministic RNG, 5000x5000 matrix\n",
        "\n",
        "def f(w, b, x):\n",
        "  return jnp.tanh(jnp.dot(x, w) + b) # tan((x * w) + b)\n",
        "\n",
        "fast_f = jit(f)"
      ]
    },
    {
      "cell_type": "code",
      "execution_count": 18,
      "metadata": {
        "colab": {
          "base_uri": "https://localhost:8080/"
        },
        "executionInfo": {
          "elapsed": 242,
          "status": "ok",
          "timestamp": 1704275020761,
          "user": {
            "displayName": "Ivan Yashchuk FI",
            "userId": "16443069227328591903"
          },
          "user_tz": -120
        },
        "id": "uow2dBcwtM4O",
        "outputId": "34b44244-eb72-4fda-e02a-75e4f37acadc"
      },
      "outputs": [
        {
          "name": "stdout",
          "output_type": "stream",
          "text": [
            "foo\n",
            "=====\n",
            "invars: [a]\n",
            "outvars: [b]\n",
            "constvars: []\n",
            "equation: [a, 1] add [b] {}\n",
            "\n",
            "jaxpr: { lambda ; a:i32[]. let b:i32[] = add a 1 in (b,) }\n",
            "\n",
            "bar\n",
            "=====\n",
            "invars: [a, b, c]\n",
            "outvars: [g, c]\n",
            "constvars: []\n",
            "equation: [a, c] dot_general [d] {'dimension_numbers': (((1,), (0,)), ((), ())), 'precision': None, 'preferred_element_type': dtype('float32')}\n",
            "equation: [d, b] add [e] {}\n",
            "equation: [1.0] broadcast_in_dim [f] {'shape': (5,), 'broadcast_dimensions': ()}\n",
            "equation: [e, f] add [g] {}\n",
            "\n",
            "jaxpr: { lambda ; a:f32[5,10] b:f32[5] c:f32[10]. let\n",
            "    d:f32[5] = dot_general[\n",
            "      dimension_numbers=(([1], [0]), ([], []))\n",
            "      preferred_element_type=float32\n",
            "    ] a c\n",
            "    e:f32[5] = add d b\n",
            "    f:f32[5] = broadcast_in_dim[broadcast_dimensions=() shape=(5,)] 1.0\n",
            "    g:f32[5] = add e f\n",
            "  in (g, c) }\n"
          ]
        }
      ],
      "source": [
        "def examine_jaxpr(closed_jaxpr):\n",
        "  jaxpr = closed_jaxpr.jaxpr\n",
        "  print(\"invars:\", jaxpr.invars)\n",
        "  print(\"outvars:\", jaxpr.outvars)\n",
        "  print(\"constvars:\", jaxpr.constvars)\n",
        "  for eqn in jaxpr.eqns:\n",
        "    print(\"equation:\", eqn.invars, eqn.primitive, eqn.outvars, eqn.params)\n",
        "  print()\n",
        "  print(\"jaxpr:\", jaxpr)\n",
        "\n",
        "def foo(x):\n",
        "  return x + 1\n",
        "print(\"foo\")\n",
        "print(\"=====\")\n",
        "examine_jaxpr(jax.make_jaxpr(foo)(5))\n",
        "\n",
        "print()\n",
        "\n",
        "def bar(w, b, x):\n",
        "  return jnp.dot(w, x) + b + jnp.ones(5), x\n",
        "print(\"bar\")\n",
        "print(\"=====\")\n",
        "examine_jaxpr(jax.make_jaxpr(bar)(jnp.ones((5, 10)), jnp.ones(5), jnp.ones(10)))"
      ]
    },
    {
      "cell_type": "code",
      "execution_count": 19,
      "metadata": {
        "colab": {
          "base_uri": "https://localhost:8080/"
        },
        "executionInfo": {
          "elapsed": 231,
          "status": "ok",
          "timestamp": 1704275118068,
          "user": {
            "displayName": "Ivan Yashchuk FI",
            "userId": "16443069227328591903"
          },
          "user_tz": -120
        },
        "id": "aCTCzEA3tm3d",
        "outputId": "e6a74991-8057-4941-85aa-8af51bb17677"
      },
      "outputs": [
        {
          "name": "stdout",
          "output_type": "stream",
          "text": [
            "{ lambda ; a:f32[5]. let b:f32[5] = tanh a; c:f32[5] = exp b in (c,) }\n",
            "[]\n"
          ]
        }
      ],
      "source": [
        "# Importing Jax functions useful for tracing/interpreting.\n",
        "import numpy as np\n",
        "from functools import wraps\n",
        "\n",
        "from jax import core\n",
        "from jax import lax # convert numpy primitives to be compatible with jax\n",
        "from jax._src.util import safe_map # assert: arg len must stay consistent\n",
        "\n",
        "def f(x):\n",
        "  return jnp.exp(jnp.tanh(x))\n",
        "\n",
        "closed_jaxpr = jax.make_jaxpr(f)(jnp.ones(5))\n",
        "print(closed_jaxpr.jaxpr)\n",
        "print(closed_jaxpr.literals)"
      ]
    },
    {
      "cell_type": "code",
      "execution_count": 20,
      "metadata": {
        "id": "SxTtu14CtoS3"
      },
      "outputs": [
        {
          "data": {
            "text/plain": [
              "[Array([2.1416876, 2.1416876, 2.1416876, 2.1416876, 2.1416876], dtype=float32)]"
            ]
          },
          "execution_count": 20,
          "metadata": {},
          "output_type": "execute_result"
        }
      ],
      "source": [
        "# def safe_map_temp(func, l1, l2):\n",
        "#   assert len(l1) == len(l2)\n",
        "#   zipped = zip(l1, l2)\n",
        "#   for el1, el2 in zipped:\n",
        "#     func(el1, el2)\n",
        "\n",
        "# # wrapper / interpreter (because we can't call the function directly)\n",
        "# def eval_jaxpr(jaxpr, consts, *args):\n",
        "#   # map\n",
        "#   env = {}\n",
        "# \n",
        "#   def read(var):\n",
        "#     return env[var]\n",
        "# \n",
        "#   def write(var, val):\n",
        "#     env[var] = val\n",
        "# \n",
        "#   safe_map_temp(write, jaxpr.invars, args) # map key: arguments, map val: args ---> assign value to each argument variable\n",
        "#   for eqn in jaxpr.eqns: # for each instruction in lambda\n",
        "#     invals = safe_map_temp(read, eqn.invars) # read all arguments\n",
        "#     outvals = eqn.primitive.bind(*invals, **eqn.params) # assign value to each input argument variable AND PROCESS (primitives are instructions)\n",
        "#     if not eqn.primitive.multiple_results: # single result\n",
        "#       outvals = [outvals]\n",
        "#     safe_map_temp(write, eqn.outvars, outvals) # tuple result\n",
        "#   return safe_map_temp(read, jaxpr.outvars)\n",
        "\n",
        "def eval_jaxpr(jaxpr, consts, *args):\n",
        "  # Mapping from variable -> value\n",
        "  env = {}\n",
        "  \n",
        "  def read(var):\n",
        "    # Literals are values baked into the Jaxpr\n",
        "    if type(var) is core.Literal:\n",
        "      return var.val\n",
        "    return env[var]\n",
        "\n",
        "  def write(var, val):\n",
        "    env[var] = val\n",
        "\n",
        "  # Bind args and consts to environment\n",
        "  safe_map(write, jaxpr.invars, args)\n",
        "  safe_map(write, jaxpr.constvars, consts)\n",
        "\n",
        "  # Loop through equations and evaluate primitives using `bind`\n",
        "  for eqn in jaxpr.eqns:\n",
        "    # Read inputs to equation from environment\n",
        "    invals = safe_map(read, eqn.invars)  \n",
        "    # `bind` is how a primitive is called\n",
        "    outvals = eqn.primitive.bind(*invals, **eqn.params)\n",
        "    # Primitives may return multiple outputs or not\n",
        "    if not eqn.primitive.multiple_results: \n",
        "      outvals = [outvals]\n",
        "    # Write the results of the primitive into the environment\n",
        "    safe_map(write, eqn.outvars, outvals) \n",
        "  # Read the final result of the Jaxpr from the environment\n",
        "  return safe_map(read, jaxpr.outvars) \n",
        "\n",
        "closed_jaxpr = jax.make_jaxpr(f)(jnp.ones(5))\n",
        "eval_jaxpr(closed_jaxpr.jaxpr, closed_jaxpr.literals, jnp.ones(5))"
      ]
    },
    {
      "cell_type": "code",
      "execution_count": 21,
      "metadata": {
        "id": "RM-ML8Lht7k1"
      },
      "outputs": [
        {
          "data": {
            "text/plain": [
              "{ lambda ; a:f32[]. let b:f32[] = log a; c:f32[] = atanh b in (c,) }"
            ]
          },
          "execution_count": 21,
          "metadata": {},
          "output_type": "execute_result"
        }
      ],
      "source": [
        "inverse_registry = {}\n",
        "inverse_registry[lax.exp_p] = jnp.log\n",
        "inverse_registry[lax.tanh_p] = jnp.arctanh\n",
        "\n",
        "def inverse(fun):\n",
        "  @wraps(fun)\n",
        "  def wrapped(*args, **kwargs):\n",
        "    closed_jaxpr = jax.make_jaxpr(fun)(*args, **kwargs)\n",
        "    out = inverse_jaxpr(closed_jaxpr.jaxpr, closed_jaxpr.literals, *args)\n",
        "    return out[0]\n",
        "  return wrapped\n",
        "\n",
        "def inverse_jaxpr(jaxpr, consts, *args):\n",
        "  env = {}\n",
        "\n",
        "  def read(var):\n",
        "    if type(var) is core.Literal:\n",
        "      return var.val\n",
        "    return env[var]\n",
        "\n",
        "  def write(var, val):\n",
        "    env[var] = val\n",
        "\n",
        "  safe_map(write, jaxpr.outvars, args)\n",
        "  safe_map(write, jaxpr.constvars, consts)\n",
        "\n",
        "  for eqn in jaxpr.eqns[::-1]: # read in reverse\n",
        "    invals = safe_map(read, eqn.outvars) # replace invars with outvars\n",
        "\n",
        "    if eqn.primitive not in inverse_registry:\n",
        "      raise NotImplementedError(\n",
        "          f\"{eqn.primitive} does not have registered inverse.\")\n",
        "    outval = inverse_registry[eqn.primitive](*invals)\n",
        "\n",
        "    safe_map(write, eqn.invars, [outval])\n",
        "  return safe_map(read, jaxpr.invars)\n",
        "\n",
        "def f(x):\n",
        "  return jnp.exp(jnp.tanh(x)) # exp(tan(x))\n",
        "\n",
        "f_inv = inverse(f)\n",
        "assert jnp.allclose(f_inv(f(1.0)), 1.0) # f^-1(f(1)) == 1\n",
        "\n",
        "jax.make_jaxpr(inverse(f))(f(1.))"
      ]
    },
    {
      "cell_type": "code",
      "execution_count": 22,
      "metadata": {
        "colab": {
          "base_uri": "https://localhost:8080/"
        },
        "executionInfo": {
          "elapsed": 240,
          "status": "ok",
          "timestamp": 1704275274256,
          "user": {
            "displayName": "Ivan Yashchuk FI",
            "userId": "16443069227328591903"
          },
          "user_tz": -120
        },
        "id": "aP4Ajv0VuJmB",
        "outputId": "4600857b-5b69-4dee-8ad1-f5e72c041e93"
      },
      "outputs": [
        {
          "data": {
            "text/plain": [
              "Array([        nan, -1.5653983 , -0.56384623, -0.22696194,  0.        ],      dtype=float32, weak_type=True)"
            ]
          },
          "execution_count": 22,
          "metadata": {},
          "output_type": "execute_result"
        }
      ],
      "source": [
        "jit(inverse(f))((jnp.arange(5) + 1.) / 5.)"
      ]
    },
    {
      "cell_type": "code",
      "execution_count": null,
      "metadata": {
        "id": "ulfQ1TD4uOc-"
      },
      "outputs": [],
      "source": []
    }
  ],
  "metadata": {
    "colab": {
      "provenance": [
        {
          "file_id": "17Ht418pPfnPLDZ2L5d7GdSETX3S4Ymp8",
          "timestamp": 1704364156454
        },
        {
          "file_id": "1gb7uDkPXQ9a_ku41EkxHIMkeEQbwOfRs",
          "timestamp": 1704359507223
        }
      ]
    },
    "kernelspec": {
      "display_name": "Python 3",
      "name": "python3"
    },
    "language_info": {
      "codemirror_mode": {
        "name": "ipython",
        "version": 3
      },
      "file_extension": ".py",
      "mimetype": "text/x-python",
      "name": "python",
      "nbconvert_exporter": "python",
      "pygments_lexer": "ipython3",
      "version": "3.11.6"
    }
  },
  "nbformat": 4,
  "nbformat_minor": 0
}
